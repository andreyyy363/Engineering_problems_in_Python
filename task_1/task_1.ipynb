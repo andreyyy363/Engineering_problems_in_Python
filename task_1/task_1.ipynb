{
 "cells": [
  {
   "cell_type": "markdown",
   "id": "53bd5fd524d02e00",
   "metadata": {},
   "source": [
    "1. Напишіть програму на мові Python, яка обчислює опір повітря автомобілю (або велосипеду) у повному штилі. Крім того, програма повинна обчислити потужність приводу і виконану роботу за заданого часу руху"
   ]
  },
  {
   "cell_type": "code",
   "id": "initial_id",
   "metadata": {
    "collapsed": true,
    "ExecuteTime": {
     "end_time": "2025-03-06T11:04:00.705926Z",
     "start_time": "2025-03-06T11:04:00.702509Z"
    }
   },
   "source": [
    "# Функція для обчислення сили опору повітря\n",
    "def air_resistance_force(C_d, rho, A, v):\n",
    "    return 0.5 * C_d * rho * A * v ** 2\n",
    "\n",
    "\n",
    "# Функція для обчислення необхідної потужності\n",
    "def required_power(F_d, v):\n",
    "    return F_d * v\n",
    "\n",
    "\n",
    "# Функція для обчислення виконаної роботи\n",
    "def work_done(P, t):\n",
    "    return P * t"
   ],
   "outputs": [],
   "execution_count": 1
  },
  {
   "cell_type": "code",
   "id": "d88e51e4ca428770",
   "metadata": {
    "ExecuteTime": {
     "end_time": "2025-03-06T11:04:00.722051Z",
     "start_time": "2025-03-06T11:04:00.718218Z"
    }
   },
   "source": [
    "C_d = 0.33  # коефіцієнт аеродинамічного опору\n",
    "A = 10  # площа лобового опору, м²\n",
    "v = 20  # швидкість руху, м/с\n",
    "t = 30  # час руху, с\n",
    "rho = 1.225  # густина повітря, кг/м³\n",
    "\n",
    "# Обчислення\n",
    "F_d = air_resistance_force(C_d, rho, A, v)\n",
    "P = required_power(F_d, v)\n",
    "W = work_done(P, t)\n",
    "\n",
    "# Вивід результатів\n",
    "print('Вхідні дані:')\n",
    "print(f'Коефіцієнт аеродинамічного опору: {C_d:.2f}')\n",
    "print(f'Площа лобового опору: {A:.2f} м²')\n",
    "print(f'Швидкість руху: {v:.2f} м/с')\n",
    "print(f'Час руху: {t:.2f} с')\n",
    "print('Результати:')\n",
    "print(f'Сила опору повітря: {F_d:.2f} Н')\n",
    "print(f'Необхідна потужність: {P:.2f} Вт')\n",
    "print(f'Виконана робота: {W:.2f} Дж')"
   ],
   "outputs": [
    {
     "name": "stdout",
     "output_type": "stream",
     "text": [
      "Вхідні дані:\n",
      "Коефіцієнт аеродинамічного опору: 0.33\n",
      "Площа лобового опору: 10.00 м²\n",
      "Швидкість руху: 20.00 м/с\n",
      "Час руху: 30.00 с\n",
      "Результати:\n",
      "Сила опору повітря: 808.50 Н\n",
      "Необхідна потужність: 16170.00 Вт\n",
      "Виконана робота: 485100.00 Дж\n"
     ]
    }
   ],
   "execution_count": 2
  },
  {
   "cell_type": "markdown",
   "id": "cf02107b61d7ba20",
   "metadata": {},
   "source": [
    "2. Сформулюйте наступні математичні вирази у вигляді вихідного коду:\n",
    "$$\n",
    "a^2 + b^2 = c^2\n",
    "$$\n",
    "\n",
    "$$\n",
    "m = \\frac{m_0}{\\sqrt{1 - \\frac{v^2}{c^2}}}\n",
    "$$\n",
    "\n",
    "$$\n",
    "y = ln(cosh(x))\n",
    "$$\n",
    "\n",
    "$$\n",
    "y = \\frac{1}{a}arctg(\\frac{x}{a})\n",
    "$$"
   ]
  },
  {
   "cell_type": "code",
   "id": "6210f57590d2f2d7",
   "metadata": {
    "ExecuteTime": {
     "end_time": "2025-03-06T11:04:01.023567Z",
     "start_time": "2025-03-06T11:04:01.020351Z"
    }
   },
   "source": [
    "import math\n",
    "\n",
    "# a^2 + b^2 = c^2\n",
    "a = 3\n",
    "b = 4\n",
    "c = math.sqrt(a ** 2 + b ** 2)\n",
    "print(f'c = {c}')\n",
    "\n",
    "# m = m_0 / sqrt(1 - v^2 / c^2)\n",
    "m_0 = 70\n",
    "v = 10\n",
    "c = 299792458\n",
    "m = m_0 / math.sqrt(1 - (v ** 2 / c ** 2))\n",
    "print(f'm = {m}')\n",
    "\n",
    "# y = ln(cosh(x))\n",
    "x = 2\n",
    "y = math.log(math.cosh(x))\n",
    "print(f'y = {y}')\n",
    "\n",
    "# y = (1 / a) * arctan(x / a)\n",
    "a = 5\n",
    "x = 1\n",
    "y = (1 / a) * math.atan(x / a)\n",
    "print(f'y = {y}')"
   ],
   "outputs": [
    {
     "name": "stdout",
     "output_type": "stream",
     "text": [
      "c = 5.0\n",
      "m = 70.00000000000004\n",
      "y = 1.3250027473578645\n",
      "y = 0.03947911196997616\n"
     ]
    }
   ],
   "execution_count": 3
  },
  {
   "cell_type": "markdown",
   "id": "455347343f3b75b4",
   "metadata": {},
   "source": [
    "3. Напишіть програму на Python для обчислення кореня за допомогою алгоритму Герона (вилучення вавилонського кореня)."
   ]
  },
  {
   "cell_type": "code",
   "id": "5404f9fa6a6e30db",
   "metadata": {
    "ExecuteTime": {
     "end_time": "2025-03-06T11:04:01.035003Z",
     "start_time": "2025-03-06T11:04:01.028701Z"
    }
   },
   "source": [
    "def heron_sqrt(n, tolerance=1e-10):\n",
    "    if n < 0:\n",
    "        raise ValueError(\"Cannot compute the square root of a negative number.\")\n",
    "\n",
    "    x = n\n",
    "    while True:\n",
    "        root = (x + (n / x)) / 2\n",
    "        if abs(root - x) < tolerance:\n",
    "            return root\n",
    "        x = root\n"
   ],
   "outputs": [],
   "execution_count": 4
  },
  {
   "metadata": {
    "ExecuteTime": {
     "end_time": "2025-03-06T11:04:01.081829Z",
     "start_time": "2025-03-06T11:04:01.079446Z"
    }
   },
   "cell_type": "code",
   "source": [
    "number = 25\n",
    "result = heron_sqrt(number)\n",
    "print(f'The square root of {number} is approximately {result:.10f}')"
   ],
   "id": "e6a26fd3484252fe",
   "outputs": [
    {
     "name": "stdout",
     "output_type": "stream",
     "text": [
      "The square root of 25 is approximately 5.0000000000\n"
     ]
    }
   ],
   "execution_count": 5
  },
  {
   "metadata": {},
   "cell_type": "markdown",
   "source": "4. Напишіть програму на Python, яка за заданою тригонометричною функцією виводить функцію кореня цієї функції у вигляді рядка. Для розв'язку задачі використовуйте dict.",
   "id": "3706f3498e06d678"
  },
  {
   "metadata": {
    "ExecuteTime": {
     "end_time": "2025-03-06T11:04:01.171707Z",
     "start_time": "2025-03-06T11:04:01.169520Z"
    }
   },
   "cell_type": "code",
   "source": [
    "def sqrt_trig_function(trig_func):\n",
    "    trig_to_sqrt = {\n",
    "        'sin(x)': 'sqrt(sin(x))',\n",
    "        'cos(x)': 'sqrt(cos(x))',\n",
    "        'tan(x)': 'sqrt(tan(x))',\n",
    "        'csc(x)': 'sqrt(1/sin(x))',\n",
    "        'sec(x)': 'sqrt(1/cos(x))',\n",
    "        'cot(x)': 'sqrt(1/tan(x))'\n",
    "    }\n",
    "    return trig_to_sqrt.get(trig_func, 'Unknown function')"
   ],
   "id": "6812663217b20f83",
   "outputs": [],
   "execution_count": 6
  },
  {
   "metadata": {
    "ExecuteTime": {
     "end_time": "2025-03-06T11:04:01.191783Z",
     "start_time": "2025-03-06T11:04:01.189074Z"
    }
   },
   "cell_type": "code",
   "source": [
    "trig_func = 'sin(x)'\n",
    "result = sqrt_trig_function(trig_func)\n",
    "print(f'The square root function of {trig_func} is {result}')"
   ],
   "id": "e49e67346717192a",
   "outputs": [
    {
     "name": "stdout",
     "output_type": "stream",
     "text": [
      "The square root function of sin(x) is sqrt(sin(x))\n"
     ]
    }
   ],
   "execution_count": 7
  },
  {
   "metadata": {},
   "cell_type": "markdown",
   "source": "5. Напишіть програму в об'єктно-орієнтованому варіанті для розрахунку аеродинамічного опору легкового автомобіля (формула з завдання 1)",
   "id": "e25a42ba76f35627"
  },
  {
   "metadata": {
    "ExecuteTime": {
     "end_time": "2025-03-06T11:04:01.222581Z",
     "start_time": "2025-03-06T11:04:01.218868Z"
    }
   },
   "cell_type": "code",
   "source": [
    "class CarAerodynamics:\n",
    "    def __init__(self, C_d, rho, A, v, t):\n",
    "        self.C_d = C_d  # коефіцієнт аеродинамічного опору\n",
    "        self.rho = rho  # густина повітря, кг/м³\n",
    "        self.A = A  # площа лобового опору, м²\n",
    "        self.v = v  # швидкість руху, м/с\n",
    "        self.t = t  # час руху, с\n",
    "\n",
    "    # Сила опору повітря\n",
    "    def air_resistance_force(self):\n",
    "        return 0.5 * self.C_d * self.rho * self.A * self.v ** 2\n",
    "\n",
    "    # Необхідна потужність\n",
    "    def required_power(self, F_d):\n",
    "        return F_d * self.v\n",
    "\n",
    "    # Виконана робота\n",
    "    def work_done(self, P):\n",
    "        return P * self.t\n",
    "\n",
    "    # Основний метод для обчислення всіх значень\n",
    "    def calculate(self):\n",
    "        F_d = self.air_resistance_force()\n",
    "        P = self.required_power(F_d)\n",
    "        W = self.work_done(P)\n",
    "        return F_d, P, W\n",
    "\n",
    "    # Метод для виводу результатів\n",
    "    def display_results(self):\n",
    "        F_d, P, W = self.calculate()\n",
    "        print('Вхідні дані:')\n",
    "        print(f'Коефіцієнт аеродинамічного опору: {self.C_d:.2f}')\n",
    "        print(f'Площа лобового опору: {self.A:.2f} м²')\n",
    "        print(f'Швидкість руху: {self.v:.2f} м/с')\n",
    "        print(f'Час руху: {self.t:.2f} с')\n",
    "        print('Результати:')\n",
    "        print(f'Сила опору повітря: {F_d:.2f} Н')\n",
    "        print(f'Необхідна потужність: {P:.2f} Вт')\n",
    "        print(f'Виконана робота: {W:.2f} Дж')"
   ],
   "id": "e02d2c16fd8653bf",
   "outputs": [],
   "execution_count": 8
  },
  {
   "metadata": {
    "ExecuteTime": {
     "end_time": "2025-03-06T11:04:01.242703Z",
     "start_time": "2025-03-06T11:04:01.239218Z"
    }
   },
   "cell_type": "code",
   "source": [
    "C_d = 0.33  # коефіцієнт аеродинамічного опору\n",
    "A = 10  # площа лобового опору, м²\n",
    "v = 20  # швидкість руху, м/с\n",
    "t = 30  # час руху, с\n",
    "rho = 1.225  # густина повітря, кг/м³\n",
    "\n",
    "car = CarAerodynamics(C_d, rho, A, v, t)\n",
    "car.display_results()"
   ],
   "id": "35e0957b6a3b47fd",
   "outputs": [
    {
     "name": "stdout",
     "output_type": "stream",
     "text": [
      "Вхідні дані:\n",
      "Коефіцієнт аеродинамічного опору: 0.33\n",
      "Площа лобового опору: 10.00 м²\n",
      "Швидкість руху: 20.00 м/с\n",
      "Час руху: 30.00 с\n",
      "Результати:\n",
      "Сила опору повітря: 808.50 Н\n",
      "Необхідна потужність: 16170.00 Вт\n",
      "Виконана робота: 485100.00 Дж\n"
     ]
    }
   ],
   "execution_count": 9
  }
 ],
 "metadata": {
  "kernelspec": {
   "display_name": "Python 3",
   "language": "python",
   "name": "python3"
  },
  "language_info": {
   "codemirror_mode": {
    "name": "ipython",
    "version": 2
   },
   "file_extension": ".py",
   "mimetype": "text/x-python",
   "name": "python",
   "nbconvert_exporter": "python",
   "pygments_lexer": "ipython2",
   "version": "2.7.6"
  }
 },
 "nbformat": 4,
 "nbformat_minor": 5
}
